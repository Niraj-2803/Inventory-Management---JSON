{
 "cells": [
  {
   "cell_type": "code",
   "execution_count": 16,
   "id": "8c4f1b5c",
   "metadata": {},
   "outputs": [],
   "source": [
    "import json\n",
    "import time\n",
    "\n",
    "fd = open('Record.json','r')\n",
    "js = fd.read()\n",
    "fd.close()\n",
    "\n",
    "record = json.loads(js)"
   ]
  },
  {
   "cell_type": "code",
   "execution_count": 17,
   "id": "0ccc72b7",
   "metadata": {},
   "outputs": [
    {
     "data": {
      "text/plain": [
       "{'1001': {'Name': '5-Star', 'Price': 10, 'Qn': 100},\n",
       " '1002': {'Name': 'Bar-One', 'Price': 20, 'Qn': 34},\n",
       " '1003': {'Name': 'Candy', 'Price': 2, 'Qn': 800},\n",
       " '1004': {'Name': 'Chocolate Cake', 'Price': 550, 'Qn': 8},\n",
       " '1005': {'Name': 'BlueBerry Cake', 'Price': 650, 'Qn': 7}}"
      ]
     },
     "execution_count": 17,
     "metadata": {},
     "output_type": "execute_result"
    }
   ],
   "source": [
    "record"
   ]
  },
  {
   "cell_type": "code",
   "execution_count": null,
   "id": "e5359e21",
   "metadata": {},
   "outputs": [
    {
     "name": "stdout",
     "output_type": "stream",
     "text": [
      "_______________MENU_______________\n",
      "1001 5-Star 10 100\n",
      "1002 Bar-One 20 34\n",
      "1003 Candy 2 800\n",
      "1004 Chocolate Cake 550 8\n",
      "1005 BlueBerry Cake 650 7\n",
      "__________________________________\n"
     ]
    }
   ],
   "source": [
    "print(\"_______________MENU_______________\")\n",
    "for key in record:\n",
    "    print(key, record[key]['Name'],record[key]['Price'],record[key]['Qn'])\n",
    "print(\"__________________________________\")\n",
    "\n",
    "ui_name = input(\"Enter your name    : \")\n",
    "ui_mail = input(\"Enter Mail ID      : \")\n",
    "ui_ph   = input(\"Enter Phone No     :  \")\n",
    "ui_pr   = input(\"Enter Product ID: \")\n",
    "ui_qn   = int(input(\"Enter Quantity: \"))\n",
    "\n",
    "print(\"__________________________________\")\n",
    "\n",
    "if(ui_qn <= record[ui_pr]['Qn']):\n",
    "    print(\"Name    : \", record[ui_pr][\"Name\"])\n",
    "    print(\"Price   : \", record[ui_pr][\"Price\"])\n",
    "    print(\"Quantity: \", ui_qn)\n",
    "    print(\"__________________________________\")\n",
    "    print(\"Billing : \", ui_qn * record[ui_pr][\"Price\"], \"/-\")\n",
    "    print(\"__________________________________\")\n",
    "\n",
    "    record[ui_pr]['Qn'] = record[ui_pr]['Qn'] - ui_qn\n",
    "    \n",
    "    sale = ui_name+\",\"+ui_mail+\",\"+ui_ph+\",\"+ui_pr+\",\"+record[ui_pr][\"Name\"]+\",\"+str(ui_qn)+\",\"+str(record[ui_pr][\"Price\"])+\",\"+ str(ui_qn * record[ui_pr][\"Price\"])+\",\"+time.ctime()\n",
    "\n",
    "else:\n",
    "    print(\"Sorry, Only\",str(record[ui_pr]['Qn']),\"left in stock !\")\n",
    "    ch = input(\"Press Y to purchase: \")\n",
    "    \n",
    "    if(ch == 'Y' or ch == 'y'):\n",
    "        print(\"Name    : \", record[ui_pr][\"Name\"])\n",
    "        print(\"Price   : \", record[ui_pr][\"Price\"])\n",
    "        print(\"Quantity: \", record[ui_pr]['Qn'])\n",
    "        print(\"__________________________________\")\n",
    "        print(\"Billing : \", record[ui_pr][\"Qn\"] * record[ui_pr][\"Price\"], \"/-\")\n",
    "        print(\"__________________________________\")\n",
    "\n",
    "        record[ui_pr]['Qn'] = 0\n",
    "    else:\n",
    "        print(\"Thanks !\")\n",
    "    sale = ui_name+\",\"+ui_mail+\",\"+ui_ph+\",\"+ui_pr+\",\"+record[ui_pr][\"Name\"]+\",\"+str(record[ui_pr]['Qn'])+\",\"+str(record[ui_pr][\"Price\"])+\",\"+ record[ui_pr]['Qn'] * record[ui_pr][\"Price\"]+\",\"+time.ctime()\n",
    "\n",
    "js = json.dumps(record)\n",
    "\n",
    "fd = open('Record.json','w')\n",
    "fd.write(js)\n",
    "fd.close()\n",
    "\n",
    "fd = open('Sales.txt','a')\n",
    "fd.write(sale)\n",
    "fd.close()\n",
    "\n",
    "print(\"__________________________________\")\n",
    "print(\"    Thanks, Inventory Updated!    \")\n",
    "print(\"__________________________________\")\n"
   ]
  },
  {
   "cell_type": "code",
   "execution_count": 6,
   "id": "31cecaba",
   "metadata": {},
   "outputs": [
    {
     "data": {
      "text/plain": [
       "'nsw,xkmw,123,1002,Bar-One,4,20,80,Sun Jun  9 11:34:27 2024'"
      ]
     },
     "execution_count": 6,
     "metadata": {},
     "output_type": "execute_result"
    }
   ],
   "source": [
    "sale"
   ]
  },
  {
   "cell_type": "code",
   "execution_count": null,
   "id": "6c341b48",
   "metadata": {},
   "outputs": [],
   "source": []
  },
  {
   "cell_type": "code",
   "execution_count": null,
   "id": "55a419a2",
   "metadata": {},
   "outputs": [],
   "source": []
  }
 ],
 "metadata": {
  "kernelspec": {
   "display_name": "Python 3 (ipykernel)",
   "language": "python",
   "name": "python3"
  },
  "language_info": {
   "codemirror_mode": {
    "name": "ipython",
    "version": 3
   },
   "file_extension": ".py",
   "mimetype": "text/x-python",
   "name": "python",
   "nbconvert_exporter": "python",
   "pygments_lexer": "ipython3",
   "version": "3.9.12"
  }
 },
 "nbformat": 4,
 "nbformat_minor": 5
}
